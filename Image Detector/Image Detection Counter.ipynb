{
 "cells": [
  {
   "cell_type": "code",
   "execution_count": 1,
   "metadata": {},
   "outputs": [],
   "source": [
    "import numpy as np\n",
    "import cv2\n",
    "import pandas as pd\n",
    "from sqlalchemy import create_engine\n",
    "import psycopg2\n",
    "import simplejson\n",
    "import pandas as pd\n",
    "from io import StringIO\n",
    "import json\n",
    "import boto3\n",
    "from boto.s3.connection import S3Connection\n",
    "import gspread\n",
    "from oauth2client.service_account import ServiceAccountCredentials\n",
    "%load_ext sql\n",
    "%config SqlMagic.displaylimit = 5\n",
    "from apiclient.discovery import build \n",
    "import os\n",
    "import glob\n",
    "from PIL import Image\n",
    "from io import BytesIO"
   ]
  },
  {
   "cell_type": "code",
   "execution_count": 2,
   "metadata": {
    "collapsed": true
   },
   "outputs": [],
   "source": [
    "face_cascade = cv2.CascadeClassifier('/anaconda/lib/python3.6/site-packages/cv2/data/haarcascade_frontalface_default.xml')"
   ]
  },
  {
   "cell_type": "code",
   "execution_count": 3,
   "metadata": {
    "collapsed": true
   },
   "outputs": [],
   "source": [
    "#Read all images from the folder\n",
    "#\n",
    "img_dir = \"/Users/masterchung/Desktop/Test_image/\"\n",
    "data_path = os.path.join(img_dir,'*g')\n",
    "files = glob.glob(data_path)\n",
    "data = []\n",
    "for f1 in files:\n",
    "    img = cv2.imread(f1,0)\n",
    "    data.append(img)"
   ]
  },
  {
   "cell_type": "code",
   "execution_count": 4,
   "metadata": {},
   "outputs": [],
   "source": [
    "#loop through each image and detect the faces\n",
    "data1 = []\n",
    "for image in data:\n",
    "    faces = face_cascade.detectMultiScale(image)\n",
    "    data1.append(faces)"
   ]
  },
  {
   "cell_type": "code",
   "execution_count": 5,
   "metadata": {},
   "outputs": [
    {
     "name": "stdout",
     "output_type": "stream",
     "text": [
      "No faces found\n",
      "Number of faces detected: 1\n",
      "Number of faces detected: 2\n",
      "Number of faces detected: 1\n",
      "No faces found\n",
      "No faces found\n",
      "No faces found\n",
      "No faces found\n",
      "No faces found\n",
      "No faces found\n",
      "No faces found\n"
     ]
    }
   ],
   "source": [
    "data1 = []\n",
    "for i in data:\n",
    "    faces = face_cascade.detectMultiScale(i)\n",
    "    \n",
    "    if len(faces) == 0:\n",
    "        print(\"No faces found\")\n",
    "    else:    \n",
    "        print(\"Number of faces detected: \" + str(faces.shape[0]))\n",
    "        \n",
    "        data1.append(str(faces.shape[0]))\n",
    "    \n",
    "#         for (x,y,w,h) in faces:\n",
    "#             cv2.rectangle(image,(x,y),(x+w,y+h),(0,255,0),1)\n",
    " \n",
    "#         cv2.rectangle(image, ((0,image.shape[0] -25)),(270, image.shape[0]), (255,255,255), -1)\n",
    "#         cv2.putText(image, \"Number of faces detected: \" + str(faces.shape[0]), (0,image.shape[0] -10), cv2.FONT_HERSHEY_TRIPLEX, 0.5,  (0,0,0), 1)\n",
    "            \n",
    "#         cv2.imshow('Image with faces',image)\n",
    "#         cv2.waitKey(0)\n",
    "#         cv2.destroyAllWindows()"
   ]
  },
  {
   "cell_type": "code",
   "execution_count": 6,
   "metadata": {},
   "outputs": [],
   "source": [
    "countfaces = pd.DataFrame(data1)\n",
    "countfaces = countfaces.rename(index=str, columns={0:\"Count of People\"})"
   ]
  },
  {
   "cell_type": "code",
   "execution_count": 7,
   "metadata": {},
   "outputs": [
    {
     "data": {
      "text/plain": [
       "{'spreadsheetId': '1u_JBNiOXtJC5Au156EJ7hdqkE26QPMNrrI7QeFw2YbI',\n",
       " 'tableRange': 'Sheet1!A1:G4',\n",
       " 'updates': {'spreadsheetId': '1u_JBNiOXtJC5Au156EJ7hdqkE26QPMNrrI7QeFw2YbI',\n",
       "  'updatedCells': 3,\n",
       "  'updatedColumns': 3,\n",
       "  'updatedRange': 'Sheet1!A5:C5',\n",
       "  'updatedRows': 1}}"
      ]
     },
     "execution_count": 7,
     "metadata": {},
     "output_type": "execute_result"
    }
   ],
   "source": [
    "# use creds to create a client to interact with the Google Drive API\n",
    "scope = ['https://spreadsheets.google.com/feeds','https://www.googleapis.com/auth/drive']\n",
    "creds = ServiceAccountCredentials.from_json_keyfile_name('ONS_client_secret.json', scope)\n",
    "client = gspread.authorize(creds)\n",
    " \n",
    "# Find a workbook by name and open the first sheet\n",
    "sheet = client.open(\"Detection Count\").sheet1\n",
    " \n",
    "# Append the count of people to google sheet\n",
    "sheet.append_row(data1)"
   ]
  },
  {
   "cell_type": "code",
   "execution_count": null,
   "metadata": {
    "collapsed": true
   },
   "outputs": [],
   "source": []
  }
 ],
 "metadata": {
  "kernelspec": {
   "display_name": "Python 3",
   "language": "python",
   "name": "python3"
  },
  "language_info": {
   "codemirror_mode": {
    "name": "ipython",
    "version": 3
   },
   "file_extension": ".py",
   "mimetype": "text/x-python",
   "name": "python",
   "nbconvert_exporter": "python",
   "pygments_lexer": "ipython3",
   "version": "3.6.1"
  }
 },
 "nbformat": 4,
 "nbformat_minor": 2
}
